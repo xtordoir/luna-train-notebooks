{
 "cells": [
  {
   "cell_type": "code",
   "execution_count": null,
   "metadata": {},
   "outputs": [],
   "source": [
    "import matplotlib.image as mpimg\n",
    "import tensorflow as tf\n",
    "import numpy as np"
   ]
  },
  {
   "cell_type": "code",
   "execution_count": null,
   "metadata": {},
   "outputs": [],
   "source": [
    "baseurl = \"https://s3-eu-west-1.amazonaws.com/training-e-xavi/lunatech-20181003/data/\""
   ]
  },
  {
   "cell_type": "code",
   "execution_count": null,
   "metadata": {},
   "outputs": [],
   "source": [
    "img = mpimg.imread(baseurl + 'before.png')"
   ]
  },
  {
   "cell_type": "markdown",
   "metadata": {},
   "source": [
    "#####  Remove 4th component of color (alpha)"
   ]
  },
  {
   "cell_type": "code",
   "execution_count": null,
   "metadata": {},
   "outputs": [],
   "source": [
    "print(img.shape)\n",
    "\n",
    "img1 = img.reshape(-1, 4)[:, 0:3]\n",
    "\n",
    "print(img.shape)"
   ]
  },
  {
   "cell_type": "markdown",
   "metadata": {},
   "source": [
    "#### Normalise color to remove pixel intensity"
   ]
  },
  {
   "cell_type": "markdown",
   "metadata": {},
   "source": [
    "row_sums = img1.sum(axis=1)\n",
    "img1 = img1 / row_sums[:, np.newaxis]\n",
    "print(img1)\n"
   ]
  },
  {
   "cell_type": "markdown",
   "metadata": {},
   "source": [
    "##### Add on-hot encoded lable: (0,1) as non mud pixels"
   ]
  },
  {
   "cell_type": "code",
   "execution_count": null,
   "metadata": {},
   "outputs": [],
   "source": [
    "img1 = np.insert(img1, 3, values=0, axis=1)\n",
    "img1 = np.insert(img1, 4, values=1, axis=1)\n",
    "\n",
    "#img1 = img1[:250000, :]\n",
    "#[R, G, B, 0, 1]\n",
    "print(img1.shape)\n"
   ]
  },
  {
   "cell_type": "markdown",
   "metadata": {},
   "source": [
    "##### Read positive sample images"
   ]
  },
  {
   "cell_type": "code",
   "execution_count": null,
   "metadata": {},
   "outputs": [],
   "source": [
    "img001 = mpimg.imread(baseurl + '001.png').reshape(-1, 4)[:, 0:3]\n",
    "img002 = mpimg.imread(baseurl + '002.png').reshape(-1, 4)[:, 0:3]\n",
    "img003 = mpimg.imread(baseurl + '003.png').reshape(-1, 4)[:, 0:3]\n",
    "img004 = mpimg.imread(baseurl + '004.png').reshape(-1, 4)[:, 0:3]\n",
    "img005 = mpimg.imread(baseurl + '005.png').reshape(-1, 4)[:, 0:3]\n",
    "img006 = mpimg.imread(baseurl + '006.png').reshape(-1, 4)[:, 0:3]\n",
    "img007 = mpimg.imread(baseurl + '007.png').reshape(-1, 4)[:, 0:3]\n",
    "img008 = mpimg.imread(baseurl + '008.png').reshape(-1, 4)[:, 0:3]\n",
    "img009 = mpimg.imread(baseurl + '009.png').reshape(-1, 4)[:, 0:3]\n",
    "img010 = mpimg.imread(baseurl + '010.png').reshape(-1, 4)[:, 0:3]\n",
    "img011 = mpimg.imread(baseurl + '011.png').reshape(-1, 4)[:, 0:3]\n"
   ]
  },
  {
   "cell_type": "markdown",
   "metadata": {},
   "source": [
    "##### Concat images as one"
   ]
  },
  {
   "cell_type": "code",
   "execution_count": null,
   "metadata": {},
   "outputs": [],
   "source": [
    "img2 = np.concatenate((img001, img002, img003, img004, img005, img006, img007, img008, img009, img010, img011)).reshape(-1, 4)[:, 0:3]\n",
    "#img2 = preprocessing.normalize(img2, norm='l2')\n"
   ]
  },
  {
   "cell_type": "markdown",
   "metadata": {},
   "source": [
    "##### Normalise colors (there is no aplha here)"
   ]
  },
  {
   "cell_type": "markdown",
   "metadata": {},
   "source": [
    "row_sums = img2.sum(axis=1)\n",
    "img2 = img2 / row_sums[:, np.newaxis]\n"
   ]
  },
  {
   "cell_type": "markdown",
   "metadata": {},
   "source": [
    "##### Add on-hot encoded label: (1,0) as  mudflow pixels\n",
    "\n",
    "##### Repeat the pixels 20 times for class bias balancing purposes"
   ]
  },
  {
   "cell_type": "code",
   "execution_count": null,
   "metadata": {},
   "outputs": [],
   "source": [
    "img2 = np.insert(img2, 3, values=1, axis=1)\n",
    "img2 = np.insert(img2, 4, values=0, axis=1)\n",
    "img2 = np.repeat(img2, 20, axis=0)\n",
    "#img2 = np.repeat(img2, 5, axis=0)\n",
    "#[R, G, B, 1, 0]\n",
    "print(img2.shape)"
   ]
  },
  {
   "cell_type": "code",
   "execution_count": null,
   "metadata": {},
   "outputs": [],
   "source": [
    "data = np.concatenate((img1, img2))\n",
    "\n",
    "init = tf.global_variables_initializer()\n"
   ]
  },
  {
   "cell_type": "code",
   "execution_count": null,
   "metadata": {},
   "outputs": [],
   "source": [
    "features = data[:, 0:3]\n",
    "labels   = data[:, 3:]\n",
    "print(labels.shape)"
   ]
  },
  {
   "cell_type": "code",
   "execution_count": null,
   "metadata": {},
   "outputs": [],
   "source": [
    "# Parameters\n",
    "learning_rate = 0.001\n",
    "training_epochs = 1\n",
    "batch_size = 5000\n",
    "display_step = 1\n",
    "\n",
    "# Network Parameters\n",
    "n_hidden_1 = 100 # 1st layer number of neurons\n",
    "n_hidden_2 = 100 # 2nd layer number of neurons\n",
    "n_input = 3 # MNIST data input (img shape: 28*28)\n",
    "n_classes = 2 # MNIST total classes (0-9 digits)\n",
    "\n",
    "# tf Graph input\n",
    "#X = tf.placeholder(\"float\", [None, n_input])\n",
    "#Y = tf.placeholder(\"float\", [None, n_classes])\n",
    "\n",
    "# Store layers weight & bias\n",
    "weights = {\n",
    "    'h1': tf.Variable(tf.random_normal([n_input, n_hidden_1])),\n",
    "    'h2': tf.Variable(tf.random_normal([n_hidden_1, n_hidden_2])),\n",
    "    'out': tf.Variable(tf.random_normal([n_hidden_2, n_classes]))\n",
    "}\n",
    "biases = {\n",
    "    'b1': tf.Variable(tf.random_normal([n_hidden_1])),\n",
    "    'b2': tf.Variable(tf.random_normal([n_hidden_2])),\n",
    "    'out': tf.Variable(tf.random_normal([n_classes]))\n",
    "}\n",
    "\n"
   ]
  },
  {
   "cell_type": "code",
   "execution_count": null,
   "metadata": {},
   "outputs": [],
   "source": [
    "# Create model\n",
    "def multilayer_perceptron(x):\n",
    "    # Hidden fully connected layer with 256 neurons\n",
    "    layer_1 = tf.add(tf.matmul(x, weights['h1']), biases['b1'])\n",
    "    layer_1 = tf.nn.relu(layer_1)\n",
    "    # Hidden fully connected layer with 256 neurons\n",
    "    layer_2 = tf.add(tf.matmul(layer_1, weights['h2']), biases['b2'])\n",
    "    layer_2 = tf.nn.relu(layer_2)\n",
    "    # Output fully connected layer with a neuron for each class\n",
    "    out_layer = tf.matmul(layer_2, weights['out']) + biases['out']\n",
    "    return out_layer\n"
   ]
  },
  {
   "cell_type": "code",
   "execution_count": null,
   "metadata": {},
   "outputs": [],
   "source": [
    "features_placeholder = tf.placeholder(features.dtype, [None, features.shape[1]], name = 'features_placeholder')\n",
    "labels_placeholder = tf.placeholder(labels.dtype, labels.shape)\n"
   ]
  },
  {
   "cell_type": "code",
   "execution_count": null,
   "metadata": {},
   "outputs": [],
   "source": [
    "dataset = tf.data.Dataset.from_tensor_slices((features_placeholder, labels_placeholder)).shuffle(buffer_size=batch_size).batch(batch_size)\n",
    "# [Other transformations on `dataset`...]\n",
    "iterator = dataset.make_initializable_iterator()\n",
    "\n",
    "x, y = iterator.get_next()\n"
   ]
  },
  {
   "cell_type": "code",
   "execution_count": null,
   "metadata": {},
   "outputs": [],
   "source": [
    "# Construct model\n",
    "logits = multilayer_perceptron(features_placeholder)\n",
    "\n",
    "## apply softmax to logits\n",
    "pred = tf.nn.softmax(logits)\n",
    "pred = tf.identity(pred, name=\"pred\")\n",
    "\n",
    "# Define loss and optimizer\n",
    "loss_op = tf.reduce_mean(tf.nn.softmax_cross_entropy_with_logits_v2(\n",
    "    logits=logits, labels = labels_placeholder))\n",
    "optimizer = tf.train.AdamOptimizer(learning_rate=learning_rate)\n",
    "train_op = optimizer.minimize(loss_op)"
   ]
  },
  {
   "cell_type": "code",
   "execution_count": null,
   "metadata": {},
   "outputs": [],
   "source": [
    "init = tf.global_variables_initializer()\n",
    "\n",
    "with tf.Session() as sess:\n",
    "#\t  initialize variables\n",
    "    sess.run(init)\n",
    "    sess.run(iterator.initializer, feed_dict={features_placeholder: features, labels_placeholder: labels})\n",
    "    #print(sess.run([x, y]))\n",
    "    # Training cycle\n",
    "    for epoch in range(training_epochs):\n",
    "        avg_cost = 0.\n",
    "        total_batch = int(features.shape[0]/batch_size)\n",
    "        #total_batch = 30\n",
    "        # Loop over all batches\n",
    "        for i in range(total_batch):    \n",
    "            _, c = sess.run([train_op, loss_op], feed_dict={features_placeholder: features, labels_placeholder: labels})\n",
    "            avg_cost += c / total_batch\n",
    "            print(\"Batch #\", '%04d' % i, \" of \", '%04d' % total_batch)\n",
    "        print(\"Epoch:\", '%04d' % (epoch+1), \"cost={:.9f}\".format(avg_cost))\n",
    "    # Test model\n",
    "    predVals = sess.run([pred], feed_dict={features_placeholder: features})\n",
    "    #pred = tf.nn.softmax(logits)  # Apply softmax to logits\n",
    "\n",
    "    correct_prediction = tf.equal(tf.argmax(pred, 1), tf.argmax(labels_placeholder, 1))\n",
    "    # Calculate accuracy\n",
    "    accuracy = tf.reduce_mean(tf.cast(correct_prediction, \"float\"))\n",
    "    print(\"Accuracy:\", accuracy.eval({features_placeholder: features, labels_placeholder: labels}))\n",
    "\n",
    "    tf.saved_model.simple_save(sess,\n",
    "            './model100relu',\n",
    "            inputs={\"features_placeholder\": features_placeholder},\n",
    "            outputs={\"pred\": pred})\n"
   ]
  },
  {
   "cell_type": "code",
   "execution_count": null,
   "metadata": {},
   "outputs": [],
   "source": []
  }
 ],
 "metadata": {
  "kernelspec": {
   "display_name": "Python 3",
   "language": "python",
   "name": "python3"
  },
  "language_info": {
   "codemirror_mode": {
    "name": "ipython",
    "version": 3
   },
   "file_extension": ".py",
   "mimetype": "text/x-python",
   "name": "python",
   "nbconvert_exporter": "python",
   "pygments_lexer": "ipython3",
   "version": "3.6.5"
  }
 },
 "nbformat": 4,
 "nbformat_minor": 2
}
