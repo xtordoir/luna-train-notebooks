{
 "cells": [
  {
   "cell_type": "code",
   "execution_count": null,
   "metadata": {},
   "outputs": [],
   "source": [
    "import warnings\n",
    "warnings.filterwarnings(\"ignore\")\n",
    "\n",
    "import matplotlib.image as mpimg\n",
    "import tensorflow as tf\n",
    "from tensorflow.python.saved_model import tag_constants\n",
    "from PIL import Image\n",
    "from sklearn import preprocessing\n",
    "import numpy as np"
   ]
  },
  {
   "cell_type": "markdown",
   "metadata": {},
   "source": [
    "##### Read the image and use sickit learn implemented normalization"
   ]
  },
  {
   "cell_type": "code",
   "execution_count": null,
   "metadata": {},
   "outputs": [],
   "source": [
    "baseurl = \"https://s3-eu-west-1.amazonaws.com/training-e-xavi/lunatech-20181003/data/\"\n",
    "### read an image \n",
    "img = mpimg.imread(baseurl + 'bigafter.png')\n",
    "img1 = img.reshape(-1, 4)[:, 0:3]\n",
    "\n",
    "print(img1.shape)\n",
    "\n",
    "\n",
    "\n"
   ]
  },
  {
   "cell_type": "markdown",
   "metadata": {},
   "source": [
    "img1 = preprocessing.normalize(img1, norm='l1')\n"
   ]
  },
  {
   "cell_type": "code",
   "execution_count": null,
   "metadata": {},
   "outputs": [],
   "source": [
    "export_dir = './model/model'"
   ]
  },
  {
   "cell_type": "code",
   "execution_count": null,
   "metadata": {},
   "outputs": [],
   "source": [
    "sess = tf.InteractiveSession()\n",
    "graph = tf.get_default_graph()\n",
    "\n",
    "tf.saved_model.loader.load(sess, [tf.saved_model.tag_constants.SERVING], './model100relu')\n",
    "features_placeholder = graph.get_tensor_by_name(\"features_placeholder:0\")\n",
    "pred = graph.get_tensor_by_name(\"pred:0\")\n",
    "sess.run([pred], {features_placeholder: img1})\n",
    "kiki = pred.eval({features_placeholder: img1})#sess.run([pred], {features_placeholder: img1})\n",
    "\n",
    "for q in (1, 5, 10, 25, 50, 75, 90, 95, 99):\n",
    "    print(\"Quantile:\", '%.2f' % q, \" = \", '%.3f' % (np.percentile(kiki[:, 0], q)) )\n",
    "\n",
    "print(kiki.shape)\n",
    "\n",
    "kiki = kiki.reshape(img.shape[0], img.shape[1], 2)[:, :, 0:1].reshape(img.shape[0], img.shape[1])\n",
    "print(kiki.shape)\n",
    "\n"
   ]
  },
  {
   "cell_type": "code",
   "execution_count": null,
   "metadata": {},
   "outputs": [],
   "source": [
    "for q in (1, 5, 10, 25, 50, 75, 90, 95, 99):\n",
    "    print(\"Quantile:\", '%.2f' % q, \" = \", '%.3f' % (np.percentile(kiki, q)) )\n",
    "\n",
    "mask = (kiki >0.5)*1.0\n",
    "zouzou = (kiki > 2)*1.0\n",
    "kiki = mask*kiki\n",
    "\n",
    "img = Image.fromarray(np.uint8(kiki*255), 'L')\n",
    "img.save('mud-pred.png')\n",
    "img.show()\n",
    "sess.close()\n",
    "\n",
    "def wscore(arr):\n",
    "    return np.mean(arr, dtype=np.float32)\n",
    "\n",
    "output = np.empty([0, 5])\n"
   ]
  },
  {
   "cell_type": "code",
   "execution_count": null,
   "metadata": {},
   "outputs": [],
   "source": [
    "for ws in (100, 50, 25, 12, 6):\n",
    "\n",
    "    kiki = np.copy(kikiki)\n",
    "    ni = kiki.shape[0]//ws*2 -1\n",
    "    nj = kiki.shape[1]//ws*2 -1\n",
    "  \n",
    "    for i in range(0, ni):\n",
    "        for j in range(0, nj):\n",
    "            x = i * ws//2\n",
    "            y = j * ws//2\n",
    "            score = wscore(kiki[x:x+ws, y:y+ws])\n",
    "            newrow = [x,y,x+ws, y+ws, score]\n",
    "            if (score > 0.75):\n",
    "                output = np.vstack([output, newrow])\n",
    "                kikiki[x:x+ws+1, y:y+ws+1] = 0\n",
    "                zouzou[x:x+ws+1, y:y+ws+1] = 255\n",
    "\n",
    "print(output)\n",
    "\n",
    "\n",
    "img = Image.fromarray(np.uint8(zouzou), 'L')\n",
    "img.show()\n",
    "img.save('mud-mask.png')\n",
    "\n"
   ]
  },
  {
   "cell_type": "code",
   "execution_count": null,
   "metadata": {},
   "outputs": [],
   "source": []
  }
 ],
 "metadata": {
  "kernelspec": {
   "display_name": "Python 3",
   "language": "python",
   "name": "python3"
  },
  "language_info": {
   "codemirror_mode": {
    "name": "ipython",
    "version": 3
   },
   "file_extension": ".py",
   "mimetype": "text/x-python",
   "name": "python",
   "nbconvert_exporter": "python",
   "pygments_lexer": "ipython3",
   "version": "3.6.5"
  }
 },
 "nbformat": 4,
 "nbformat_minor": 2
}
