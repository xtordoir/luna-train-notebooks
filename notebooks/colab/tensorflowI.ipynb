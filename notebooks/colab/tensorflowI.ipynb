{
  "nbformat": 4,
  "nbformat_minor": 0,
  "metadata": {
    "colab": {
      "name": "tensorflowI.ipynb",
      "version": "0.3.2",
      "provenance": [],
      "collapsed_sections": []
    },
    "kernelspec": {
      "name": "python3",
      "display_name": "Python 3"
    }
  },
  "cells": [
    {
      "metadata": {
        "id": "2OsqjwVg9kxu",
        "colab_type": "text"
      },
      "cell_type": "markdown",
      "source": [
        "## 1. Create a new notebook"
      ]
    },
    {
      "metadata": {
        "id": "gUPFY4259Sg6",
        "colab_type": "code",
        "colab": {}
      },
      "cell_type": "code",
      "source": [
        "import tensorflow as tf"
      ],
      "execution_count": 0,
      "outputs": []
    },
    {
      "metadata": {
        "id": "pvDRJuX99gwb",
        "colab_type": "text"
      },
      "cell_type": "markdown",
      "source": [
        "## 2. Create a session with simple operations: Rank 0 Tensor shape"
      ]
    },
    {
      "metadata": {
        "id": "vuB6d1d29Xl5",
        "colab_type": "code",
        "colab": {}
      },
      "cell_type": "code",
      "source": [
        "with tf.Session():\n",
        "    input0 = tf.constant(10.0)\n",
        "    print(tf.shape(input0))\n",
        "    print(input0.shape)"
      ],
      "execution_count": 0,
      "outputs": []
    },
    {
      "metadata": {
        "id": "5DCdet4r9bN6",
        "colab_type": "code",
        "colab": {}
      },
      "cell_type": "code",
      "source": [
        "with tf.Session():\n",
        "    input0_shape = tf.shape(input0)\n",
        "    print(input0_shape.eval())"
      ],
      "execution_count": 0,
      "outputs": []
    },
    {
      "metadata": {
        "id": "uiYt8a8R_3eD",
        "colab_type": "text"
      },
      "cell_type": "markdown",
      "source": [
        "## 3. Explore Higher Rank tensor shapes"
      ]
    },
    {
      "metadata": {
        "id": "xO_Y9fyF9fiK",
        "colab_type": "code",
        "colab": {}
      },
      "cell_type": "code",
      "source": [
        "with tf.Session():\n",
        "    input1 = tf.constant([1.0, 1.0, 1.0, 1.0])\n",
        "    input1_shape = tf.shape(input1)\n",
        "    \n",
        "    input2 = tf.constant([[1.0, 1.0, 1.0, 1.0], [2.0, 2.0, 2.0, 2.0]])\n",
        "    input2_shape = tf.shape(input2)\n",
        "\n",
        "    input3 = tf.constant([[[1, 1, 1], [2, 2, 2]], [[3, 3, 3], [4, 4, 4]]])\n",
        "    input3_shape = tf.shape(input3)\n",
        "    \n",
        "    print(input1_shape.eval())\n",
        "    print(input2_shape.eval())\n",
        "    print(input3_shape.eval())"
      ],
      "execution_count": 0,
      "outputs": []
    },
    {
      "metadata": {
        "id": "iaHEUV9XApf8",
        "colab_type": "text"
      },
      "cell_type": "markdown",
      "source": [
        "## 4. Create tensors from numpy arrays"
      ]
    },
    {
      "metadata": {
        "id": "6b8qLgqlAab2",
        "colab_type": "code",
        "colab": {}
      },
      "cell_type": "code",
      "source": [
        "import numpy as np\n",
        "\n",
        "A = np.array([1.0, 1.0, 1.0, 1.0]).reshape(1, 4)\n",
        "print(A.shape)\n",
        "\n",
        "B = np.array([[[1, 1, 1], [2, 2, 2]], [[3, 3, 3], [4, 4, 4]]])\n",
        "print(B.shape)\n",
        "\n"
      ],
      "execution_count": 0,
      "outputs": []
    },
    {
      "metadata": {
        "id": "_AFIZvl9A3u1",
        "colab_type": "code",
        "colab": {}
      },
      "cell_type": "code",
      "source": [
        "with tf.Session():\n",
        "    inputA = tf.constant(A)\n",
        "    inputA_shape = tf.shape(inputA)\n",
        "    \n",
        "    inputB = tf.constant(B)\n",
        "    inputB_shape = tf.shape(inputB)\n",
        "    \n",
        "    print(inputA_shape.eval())\n",
        "    print(inputB_shape.eval())\n"
      ],
      "execution_count": 0,
      "outputs": []
    },
    {
      "metadata": {
        "id": "0HIV6DtyE88W",
        "colab_type": "text"
      },
      "cell_type": "markdown",
      "source": [
        "## 5. Simple operations (+, x, @), evaluation\n",
        "\n",
        "`+` is element wise addition, here with rank 2 tensors\n",
        "\n",
        "$(X + Y)_{ij} = X_{ij} + Y_{ij}$\n",
        "\n",
        "`*` is element wise multiplication, here:\n",
        "\n",
        "$ (X * Y)_{ij} = X_{ij} * Y_{ij}$ \n",
        "\n",
        "`@` is matrix multiplication, works only for rank-2 tensors, where first tensor dimension 2 equals second tensor dimension 1 (#rows(x) = # columns(y)):\n",
        "\n",
        "$(XY)_{ij} = \\sum_{k} X_{ik}Y_{kj}$\n"
      ]
    },
    {
      "metadata": {
        "id": "ixqoeEQHBEn8",
        "colab_type": "code",
        "colab": {}
      },
      "cell_type": "code",
      "source": [
        "with tf.Session():\n",
        "    x = tf.constant([[1, 2],[3, 4]])\n",
        "    y = tf.constant([[1, 0],[0, 1]])\n",
        "    \n",
        "    sum_xy = x + y\n",
        "    print(sum_xy)\n",
        "    print(sum_xy.eval())\n",
        "\n",
        "    eltmult_xy = x * y\n",
        "    print(eltmult_xy)\n",
        "    print(eltmult_xy.eval())\n",
        "\n",
        "    mult_xy = x @ y\n",
        "    print(mult_xy)\n",
        "    print(mult_xy.eval())"
      ],
      "execution_count": 0,
      "outputs": []
    },
    {
      "metadata": {
        "id": "BiQdNcxnJJoc",
        "colab_type": "text"
      },
      "cell_type": "markdown",
      "source": [
        "#### Exercise: Vector - Vector products (column vs row vectors)"
      ]
    },
    {
      "metadata": {
        "id": "QAns0RSoE-Vb",
        "colab_type": "code",
        "colab": {}
      },
      "cell_type": "code",
      "source": [
        "with tf.Session():\n",
        "    x = tf.constant([[1, 2]])\n",
        "    y = tf.constant([[3],[4]])\n",
        "    \n",
        "    mult_xy = x @ y\n",
        "    print(\"X . Y =\")\n",
        "    print(mult_xy.eval())\n",
        "    print(\"\")\n",
        "    print(\"Y . X = \")\n",
        "    print((y @ x).eval())"
      ],
      "execution_count": 0,
      "outputs": []
    },
    {
      "metadata": {
        "id": "S61BieZcJp0J",
        "colab_type": "text"
      },
      "cell_type": "markdown",
      "source": [
        "## 6. Random matrices"
      ]
    },
    {
      "metadata": {
        "id": "KWq5wg4mHhNJ",
        "colab_type": "code",
        "colab": {}
      },
      "cell_type": "code",
      "source": [
        "import matplotlib.pyplot as plt"
      ],
      "execution_count": 0,
      "outputs": []
    },
    {
      "metadata": {
        "id": "0qEHbZCNJzH4",
        "colab_type": "code",
        "colab": {}
      },
      "cell_type": "code",
      "source": [
        "with tf.Session():\n",
        "  x = tf.random_uniform([10])\n",
        "  plt.hist(x.eval(), 10)"
      ],
      "execution_count": 0,
      "outputs": []
    },
    {
      "metadata": {
        "id": "Dmf9cbzxKALJ",
        "colab_type": "code",
        "colab": {}
      },
      "cell_type": "code",
      "source": [
        "with tf.Session():\n",
        "  x = tf.random_uniform([100])\n",
        "  plt.hist(x.eval(), 10)"
      ],
      "execution_count": 0,
      "outputs": []
    },
    {
      "metadata": {
        "id": "6jJrrdrMKQjI",
        "colab_type": "text"
      },
      "cell_type": "markdown",
      "source": [
        "## 7. Variables and loop updates"
      ]
    },
    {
      "metadata": {
        "id": "FtlygNc0KGt_",
        "colab_type": "code",
        "colab": {}
      },
      "cell_type": "code",
      "source": [
        "with tf.Session() as sess:\n",
        "    total = tf.Variable(tf.zeros([1000]))\n",
        "    weights = tf.Variable(tf.zeros([1000]))\n",
        "    tf.global_variables_initializer().run()\n",
        "    \n",
        "    update_weights = tf.assign(weights, tf.random_uniform([1000]))\n",
        "    update_total  = tf.assign(total, total + weights)\n",
        "    \n",
        "    for i in range(100):\n",
        "      sess.run([update_weights, update_total])\n",
        "    plt.hist(total.eval(), 25)"
      ],
      "execution_count": 0,
      "outputs": []
    },
    {
      "metadata": {
        "id": "QQ9Bw1SNMfJ4",
        "colab_type": "text"
      },
      "cell_type": "markdown",
      "source": [
        "## 8. Multiplications as a Linear Model"
      ]
    },
    {
      "metadata": {
        "id": "8roruIVcKRP3",
        "colab_type": "code",
        "colab": {}
      },
      "cell_type": "code",
      "source": [
        "with tf.Session() as sess:\n",
        "  x = tf.random_uniform([10, 3])\n",
        "    \n",
        "  b = tf.Variable(tf.random_normal([1, 1]))\n",
        "  weights = tf.Variable(tf.random_normal([3, 1]))\n",
        "  tf.global_variables_initializer().run()\n",
        "  \n",
        "  y = x @ weights + b\n",
        "  \n",
        "  print(y.eval())"
      ],
      "execution_count": 0,
      "outputs": []
    },
    {
      "metadata": {
        "id": "rjrD2K1oYnqo",
        "colab_type": "text"
      },
      "cell_type": "markdown",
      "source": [
        "## 9. Tensorboard Graph visualisation\n",
        "\n",
        "Does not apply on colaboratory"
      ]
    },
    {
      "metadata": {
        "id": "_hqPClKWYxIg",
        "colab_type": "text"
      },
      "cell_type": "markdown",
      "source": [
        "## 10. Placeholder"
      ]
    },
    {
      "metadata": {
        "id": "hqv8Lq-6sJL-",
        "colab_type": "code",
        "colab": {}
      },
      "cell_type": "code",
      "source": [
        "x = tf.placeholder(shape = [], dtype = tf.float64)\n",
        "y = x * x"
      ],
      "execution_count": 0,
      "outputs": []
    },
    {
      "metadata": {
        "id": "ke5nX2XGMkxy",
        "colab_type": "code",
        "colab": {}
      },
      "cell_type": "code",
      "source": [
        "with tf.Session() as sess:\n",
        "    res = sess.run(y, feed_dict={x: 10.0})\n",
        "    print(res)"
      ],
      "execution_count": 0,
      "outputs": []
    },
    {
      "metadata": {
        "id": "3KIOWGHGsZmj",
        "colab_type": "code",
        "colab": {}
      },
      "cell_type": "code",
      "source": [
        "## THIS WILL FAIL...\n",
        "\n",
        "with tf.Session() as sess:\n",
        "    res = sess.run(y, feed_dict={x: 10.0})\n",
        "    print(y.eval())"
      ],
      "execution_count": 0,
      "outputs": []
    },
    {
      "metadata": {
        "id": "kG7RVs58scYf",
        "colab_type": "code",
        "colab": {}
      },
      "cell_type": "code",
      "source": [
        "with tf.Session() as sess:\n",
        "    print(y.eval(feed_dict={x: 10.0}))"
      ],
      "execution_count": 0,
      "outputs": []
    },
    {
      "metadata": {
        "id": "N6-zesyoslR6",
        "colab_type": "code",
        "colab": {}
      },
      "cell_type": "code",
      "source": [
        "x = tf.placeholder(shape = [1, 3], dtype = tf.float64)\n",
        "y = x @ tf.transpose(x)"
      ],
      "execution_count": 0,
      "outputs": []
    },
    {
      "metadata": {
        "id": "jXACZ-Z9uNeK",
        "colab_type": "code",
        "colab": {}
      },
      "cell_type": "code",
      "source": [
        "with tf.Session() as sess:\n",
        "  print(y.eval({x: [[0.0, 1.0, 2.0]]}))"
      ],
      "execution_count": 0,
      "outputs": []
    },
    {
      "metadata": {
        "id": "noRlGk1fun-Q",
        "colab_type": "text"
      },
      "cell_type": "markdown",
      "source": [
        "## 11. Feed a placeholder in a loop"
      ]
    },
    {
      "metadata": {
        "id": "WHDG2YQ9xaUh",
        "colab_type": "text"
      },
      "cell_type": "markdown",
      "source": [
        "#### generate some numbers in a text file:"
      ]
    },
    {
      "metadata": {
        "id": "nSxw5IbiuPlB",
        "colab_type": "code",
        "colab": {}
      },
      "cell_type": "code",
      "source": [
        "from google.colab import files\n",
        "\n",
        "with open('example.txt', 'w') as f:\n",
        "  for i in range(100):\n",
        "    f.write(str(i/100))\n",
        "    f.write(\"\\n\")\n"
      ],
      "execution_count": 0,
      "outputs": []
    },
    {
      "metadata": {
        "id": "DqZMv633xi1C",
        "colab_type": "text"
      },
      "cell_type": "markdown",
      "source": [
        "#### read the file line by line to feed a placeholder:"
      ]
    },
    {
      "metadata": {
        "id": "ey6UC8Gtwpil",
        "colab_type": "code",
        "colab": {}
      },
      "cell_type": "code",
      "source": [
        "x = tf.placeholder(shape = [], dtype = tf.float64)\n",
        "y = x * x\n",
        "\n",
        "with tf.Session() as sess:\n",
        "  \n",
        "  with open('example.txt', 'r') as f:\n",
        "    for line in f:\n",
        "      xfloat = float(line.strip())\n",
        "      print(y.eval({x: xfloat}))"
      ],
      "execution_count": 0,
      "outputs": []
    },
    {
      "metadata": {
        "id": "JcQrcDg-yavx",
        "colab_type": "code",
        "colab": {}
      },
      "cell_type": "code",
      "source": [
        ""
      ],
      "execution_count": 0,
      "outputs": []
    }
  ]
}