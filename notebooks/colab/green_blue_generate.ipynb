{
  "nbformat": 4,
  "nbformat_minor": 0,
  "metadata": {
    "colab": {
      "name": "green-blue-generate.ipynb",
      "version": "0.3.2",
      "provenance": [],
      "collapsed_sections": []
    },
    "kernelspec": {
      "name": "python3",
      "display_name": "Python 3"
    },
    "accelerator": "GPU"
  },
  "cells": [
    {
      "metadata": {
        "id": "FFF6_p8_2laL",
        "colab_type": "text"
      },
      "cell_type": "markdown",
      "source": [
        "# Green-Blue data generator\n",
        "\n",
        "This notebook is a generator for inseparable classification data.\n",
        "\n",
        "A process to draw some colors on the Green to Blue line segment and probabilistic color label assignmengt (Green or Blue) is described. Finally, a  mixture of 3 populations with different color perception generate the dataset, comprising of a color label (target class), a color component and the population class."
      ]
    },
    {
      "metadata": {
        "id": "fhlCm6C03pEj",
        "colab_type": "text"
      },
      "cell_type": "markdown",
      "source": [
        "#### Ususal imports:"
      ]
    },
    {
      "metadata": {
        "id": "GCatS2ujney5",
        "colab_type": "code",
        "colab": {}
      },
      "cell_type": "code",
      "source": [
        "import numpy as np\n",
        "import matplotlib.pyplot as plt\n",
        "import math"
      ],
      "execution_count": 0,
      "outputs": []
    },
    {
      "metadata": {
        "id": "R2zIm9Hut4OL",
        "colab_type": "text"
      },
      "cell_type": "markdown",
      "source": [
        "\n",
        "### Utility functions:\n",
        "  \n",
        "Draw a random color (green intensity)\n",
        "\n",
        "Compute softmax of color (probability to pick the green as color label from green intensity)\n"
      ]
    },
    {
      "metadata": {
        "id": "sYijZgwWnq-c",
        "colab_type": "code",
        "colab": {}
      },
      "cell_type": "code",
      "source": [
        "def draw_color():\n",
        "  return np.random.rand()\n",
        "\n",
        "def softmax_color(c, temp = 0.1, green_shift = 0.0):\n",
        "  return math.exp((c-green_shift)/temp)/(math.exp((c-green_shift)/temp) + math.exp((1-c+green_shift)/temp))\n"
      ],
      "execution_count": 0,
      "outputs": []
    },
    {
      "metadata": {
        "id": "OzEOM1Zb4vuA",
        "colab_type": "text"
      },
      "cell_type": "markdown",
      "source": [
        "#### Example of random color drawing"
      ]
    },
    {
      "metadata": {
        "id": "8IiLQSokn3Q4",
        "colab_type": "code",
        "outputId": "55dd05c4-f5e1-48e8-a148-df45f415ee0d",
        "colab": {
          "base_uri": "https://localhost:8080/",
          "height": 398
        }
      },
      "cell_type": "code",
      "source": [
        "green_c = draw_color()\n",
        "green_p = softmax_color(green_c)\n",
        "\n",
        "print(green_c)\n",
        "print(green_p)\n",
        "plt.bar(0, 1, color = (0, green_c, 1-green_c) )"
      ],
      "execution_count": 6,
      "outputs": [
        {
          "output_type": "stream",
          "text": [
            "0.5734222718040192\n",
            "0.8128209849742749\n"
          ],
          "name": "stdout"
        },
        {
          "output_type": "execute_result",
          "data": {
            "text/plain": [
              "<Container object of 1 artists>"
            ]
          },
          "metadata": {
            "tags": []
          },
          "execution_count": 6
        },
        {
          "output_type": "display_data",
          "data": {
            "image/png": "[encoded data removed]",
            "text/plain": [
              "<matplotlib.figure.Figure at 0x7f34d81339b0>"
            ]
          },
          "metadata": {
            "tags": []
          }
        }
      ]
    },
    {
      "metadata": {
        "id": "pRZOdBni43bU",
        "colab_type": "text"
      },
      "cell_type": "markdown",
      "source": [
        "#### Plot the Green color labelling probability as a function of the green intensity\n",
        "\n",
        "\n",
        "Take the opportunity to look at the effect of temperature (`temp` argument) and shift (`green_shift` argument)"
      ]
    },
    {
      "metadata": {
        "id": "2wRzIH_5oI2l",
        "colab_type": "code",
        "colab": {}
      },
      "cell_type": "code",
      "source": [
        "colcs = []\n",
        "colps = []\n",
        "\n",
        "for i in range(100):\n",
        "  green_c = draw_color()\n",
        "  green_p = softmax_color(green_c, temp = 0.1, green_shift = 0.0)\n",
        "  colcs.append(green_c)\n",
        "  colps.append(green_p)"
      ],
      "execution_count": 0,
      "outputs": []
    },
    {
      "metadata": {
        "id": "crWWZEZWpll0",
        "colab_type": "code",
        "outputId": "f3b8c471-d9c4-4882-e3eb-2f9f22af651d",
        "colab": {
          "base_uri": "https://localhost:8080/",
          "height": 364
        }
      },
      "cell_type": "code",
      "source": [
        "plt.scatter(colcs, colps)"
      ],
      "execution_count": 11,
      "outputs": [
        {
          "output_type": "execute_result",
          "data": {
            "text/plain": [
              "<matplotlib.collections.PathCollection at 0x7f34d5816710>"
            ]
          },
          "metadata": {
            "tags": []
          },
          "execution_count": 11
        },
        {
          "output_type": "display_data",
          "data": {
            "image/png": "[encoded data removed]",
            "text/plain": [
              "<matplotlib.figure.Figure at 0x7f34d5855c88>"
            ]
          },
          "metadata": {
            "tags": []
          }
        }
      ]
    },
    {
      "metadata": {
        "id": "DBlnubjP-DWt",
        "colab_type": "text"
      },
      "cell_type": "markdown",
      "source": [
        "Function to pick a color and a label\n",
        "\n"
      ]
    },
    {
      "metadata": {
        "id": "TqQyulOppvpM",
        "colab_type": "code",
        "colab": {}
      },
      "cell_type": "code",
      "source": [
        "def eval_rnd_color( temp = 0.1, green_shift = 0.0):\n",
        "  green_c = draw_color()\n",
        "  green_p = softmax_color(green_c, temp, green_shift)\n",
        "  if (np.random.rand() > green_p):\n",
        "    col = 0\n",
        "    col_name = 'green'\n",
        "  else:\n",
        "    col = 1\n",
        "    col_name = 'blue'\n",
        "  return green_c, col, col_name  "
      ],
      "execution_count": 0,
      "outputs": []
    },
    {
      "metadata": {
        "id": "Z2d1CqpyqaFk",
        "colab_type": "code",
        "outputId": "de9294e9-248b-4df0-e416-b921d89a66ca",
        "colab": {
          "base_uri": "https://localhost:8080/",
          "height": 34
        }
      },
      "cell_type": "code",
      "source": [
        "eval_rnd_color()"
      ],
      "execution_count": 50,
      "outputs": [
        {
          "output_type": "execute_result",
          "data": {
            "text/plain": [
              "(0.00323214436216257, 0, 'green')"
            ]
          },
          "metadata": {
            "tags": []
          },
          "execution_count": 50
        }
      ]
    },
    {
      "metadata": {
        "id": "YbrL65-aAo06",
        "colab_type": "text"
      },
      "cell_type": "markdown",
      "source": [
        "#### Run a bunch of simulations to obtain a distribution of colors labels picks"
      ]
    },
    {
      "metadata": {
        "id": "wu_9y1uXqcwH",
        "colab_type": "code",
        "colab": {}
      },
      "cell_type": "code",
      "source": [
        "xs = []\n",
        "ys = []\n",
        "for i in range(1000):\n",
        "  x,y, _ = eval_rnd_color()\n",
        "  xs.append(x)\n",
        "  ys.append(y)\n",
        "\n",
        "xs = np.array(xs)\n",
        "ys = np.array(ys)"
      ],
      "execution_count": 0,
      "outputs": []
    },
    {
      "metadata": {
        "id": "TpNUZXm0qwHJ",
        "colab_type": "code",
        "outputId": "287bf6d5-1491-4119-fea6-c1ccabbd3103",
        "colab": {
          "base_uri": "https://localhost:8080/",
          "height": 364
        }
      },
      "cell_type": "code",
      "source": [
        "plt.scatter(xs, ys)"
      ],
      "execution_count": 56,
      "outputs": [
        {
          "output_type": "execute_result",
          "data": {
            "text/plain": [
              "<matplotlib.collections.PathCollection at 0x7f34d5715828>"
            ]
          },
          "metadata": {
            "tags": []
          },
          "execution_count": 56
        },
        {
          "output_type": "display_data",
          "data": {
            "image/png": "[encoded data removed]",
            "text/plain": [
              "<matplotlib.figure.Figure at 0x7f34d57638d0>"
            ]
          },
          "metadata": {
            "tags": []
          }
        }
      ]
    },
    {
      "metadata": {
        "id": "m91U7TSPA3uu",
        "colab_type": "text"
      },
      "cell_type": "markdown",
      "source": [
        "#### Plot histograms and colors"
      ]
    },
    {
      "metadata": {
        "id": "Kz09k6u5qy7S",
        "colab_type": "code",
        "outputId": "5ddfaf00-9271-4ca8-8a1e-9e9e7fe749fa",
        "colab": {
          "base_uri": "https://localhost:8080/",
          "height": 431
        }
      },
      "cell_type": "code",
      "source": [
        "plt.hist(xs[np.isin(ys,0)], color = 'green', alpha=0.5)\n",
        "plt.hist(xs[np.isin(ys,1)], color = 'blue', alpha=0.5)"
      ],
      "execution_count": 58,
      "outputs": [
        {
          "output_type": "execute_result",
          "data": {
            "text/plain": [
              "(array([10., 14., 43., 57., 50., 54., 65., 62., 75., 53.]),\n",
              " array([0.34876704, 0.41386618, 0.47896533, 0.54406447, 0.60916361,\n",
              "        0.67426275, 0.73936189, 0.80446104, 0.86956018, 0.93465932,\n",
              "        0.99975846]),\n",
              " <a list of 10 Patch objects>)"
            ]
          },
          "metadata": {
            "tags": []
          },
          "execution_count": 58
        },
        {
          "output_type": "display_data",
          "data": {
            "image/png": "[encoded data removed]",
            "text/plain": [
              "<matplotlib.figure.Figure at 0x7f34d5700978>"
            ]
          },
          "metadata": {
            "tags": []
          }
        }
      ]
    },
    {
      "metadata": {
        "id": "TqLAE36hrB_j",
        "colab_type": "code",
        "outputId": "78ff3cc4-5283-468a-8f18-77972fb494b8",
        "colab": {
          "base_uri": "https://localhost:8080/",
          "height": 347
        }
      },
      "cell_type": "code",
      "source": [
        "for i in range(100):\n",
        "  plt.bar(i, 100, width=1.0, color=[0.0, 1.0-i/100, i/100])"
      ],
      "execution_count": 61,
      "outputs": [
        {
          "output_type": "display_data",
          "data": {
            "image/png": "[encoded data removed]",
            "text/plain": [
              "<matplotlib.figure.Figure at 0x7f34d5346080>"
            ]
          },
          "metadata": {
            "tags": []
          }
        }
      ]
    },
    {
      "metadata": {
        "id": "nq7Zq8-KGQBD",
        "colab_type": "text"
      },
      "cell_type": "markdown",
      "source": [
        "**Mix 3 populations generating color labels assignments as save file**"
      ]
    },
    {
      "metadata": {
        "id": "NQJ80WYataCO",
        "colab_type": "code",
        "colab": {}
      },
      "cell_type": "code",
      "source": [
        "outfile = open(\"/tmp/green-blue.txt\", \"w\")\n",
        "\n",
        "for i in range(100000):\n",
        "  rnd = np.random.rand()\n",
        "  if rnd < 0.1:\n",
        "    x,y,label = eval_rnd_color(temp = 0.2, green_shift = -0.2)\n",
        "    pop = 'greeniac'\n",
        "  elif rnd < 0.25:\n",
        "    x,y,label = eval_rnd_color(temp = 0.1, green_shift = 0.1)\n",
        "    pop = 'bluholic'    \n",
        "  else:\n",
        "    x,y,label = eval_rnd_color()\n",
        "    pop = 'normal' \n",
        "  outfile.write(\"{},{},{}\\n\".format(label, x, pop))\n",
        "  \n",
        "outfile.close()"
      ],
      "execution_count": 0,
      "outputs": []
    },
    {
      "metadata": {
        "id": "s0COdC1KISBi",
        "colab_type": "code",
        "colab": {
          "base_uri": "https://localhost:8080/",
          "height": 34
        },
        "outputId": "3a4012a5-c5a5-4541-f498-5d9ac7920228"
      },
      "cell_type": "code",
      "source": [
        "!wc /tmp/green-blue.txt"
      ],
      "execution_count": 66,
      "outputs": [
        {
          "output_type": "stream",
          "text": [
            " 100000  100000 3225532 /tmp/green-blue.txt\n"
          ],
          "name": "stdout"
        }
      ]
    },
    {
      "metadata": {
        "id": "Qoyzve2nLoMx",
        "colab_type": "code",
        "colab": {}
      },
      "cell_type": "code",
      "source": [
        ""
      ],
      "execution_count": 0,
      "outputs": []
    }
  ]
}