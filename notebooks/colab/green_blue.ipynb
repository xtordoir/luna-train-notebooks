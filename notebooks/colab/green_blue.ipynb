{
  "nbformat": 4,
  "nbformat_minor": 0,
  "metadata": {
    "colab": {
      "name": "green-blue.ipynb",
      "version": "0.3.2",
      "provenance": [],
      "include_colab_link": true
    },
    "kernelspec": {
      "name": "python3",
      "display_name": "Python 3"
    },
    "accelerator": "GPU"
  },
  "cells": [
    {
      "cell_type": "markdown",
      "metadata": {
        "id": "view-in-github",
        "colab_type": "text"
      },
      "source": [
        "[![Open In Colab](https://colab.research.google.com/assets/colab-badge.svg)](https://colab.research.google.com/github/xtordoir/luna-train-notebooks/blob/master/notebooks/colab/green_blue.ipynb)"
      ]
    },
    {
      "metadata": {
        "id": "GCatS2ujney5",
        "colab_type": "code",
        "colab": {}
      },
      "cell_type": "code",
      "source": [
        "import numpy as np\n",
        "import matplotlib.pyplot as plt\n",
        "import math"
      ],
      "execution_count": 0,
      "outputs": []
    },
    {
      "metadata": {
        "id": "sYijZgwWnq-c",
        "colab_type": "code",
        "colab": {}
      },
      "cell_type": "code",
      "source": [
        "def draw_color():\n",
        "  return np.random.rand()\n",
        "\n",
        "def softmax_color(c):\n",
        "  return math.exp(c/temp)/(math.exp(c/temp) + math.exp((1-c)/temp))\n",
        "\n",
        "temp = 0.1"
      ],
      "execution_count": 0,
      "outputs": []
    },
    {
      "metadata": {
        "id": "8IiLQSokn3Q4",
        "colab_type": "code",
        "colab": {
          "base_uri": "https://localhost:8080/",
          "height": 50
        },
        "outputId": "7742c5bc-83ac-49be-bb6f-26f50200ef04"
      },
      "cell_type": "code",
      "source": [
        "green_c = draw_color()\n",
        "blue_c = 1 - green_c\n",
        "\n",
        "green_p = softmax_color(green_c)\n",
        "\n",
        "print(green_c)\n",
        "print(green_p)"
      ],
      "execution_count": 3,
      "outputs": [
        {
          "output_type": "stream",
          "text": [
            "0.6169181321930729\n",
            "0.9120047725681688\n"
          ],
          "name": "stdout"
        }
      ]
    },
    {
      "metadata": {
        "id": "2wRzIH_5oI2l",
        "colab_type": "code",
        "colab": {}
      },
      "cell_type": "code",
      "source": [
        "colcs = []\n",
        "colps = []\n",
        "\n",
        "for i in range(100):\n",
        "  green_c = draw_color()\n",
        "  green_p = softmax_color(green_c)\n",
        "  colcs.append(green_c)\n",
        "  colps.append(green_p)"
      ],
      "execution_count": 0,
      "outputs": []
    },
    {
      "metadata": {
        "id": "crWWZEZWpll0",
        "colab_type": "code",
        "colab": {
          "base_uri": "https://localhost:8080/",
          "height": 364
        },
        "outputId": "a0dcbe0b-4451-4581-ab0b-98b9d105453a"
      },
      "cell_type": "code",
      "source": [
        "plt.scatter(colcs, colps)"
      ],
      "execution_count": 5,
      "outputs": [
        {
          "output_type": "execute_result",
          "data": {
            "text/plain": [
              "<matplotlib.collections.PathCollection at 0x7fb6dadefe48>"
            ]
          },
          "metadata": {
            "tags": []
          },
          "execution_count": 5
        },
        {
          "output_type": "display_data",
          "data": {
            "image/png": "[encoded data removed]",
            "text/plain": [
              "<matplotlib.figure.Figure at 0x7fb6dae98358>"
            ]
          },
          "metadata": {
            "tags": []
          }
        }
      ]
    },
    {
      "metadata": {
        "id": "TqQyulOppvpM",
        "colab_type": "code",
        "colab": {}
      },
      "cell_type": "code",
      "source": [
        "def eval_rnd_color():\n",
        "  green_c = draw_color()\n",
        "  green_p = softmax_color(green_c)\n",
        "  if (np.random.rand() > green_p):\n",
        "    col = 0\n",
        "  else:\n",
        "    col = 1\n",
        "  return green_c, col  "
      ],
      "execution_count": 0,
      "outputs": []
    },
    {
      "metadata": {
        "id": "Z2d1CqpyqaFk",
        "colab_type": "code",
        "colab": {
          "base_uri": "https://localhost:8080/",
          "height": 34
        },
        "outputId": "9668f9bf-0e82-4fba-83b0-591ef05cf1ea"
      },
      "cell_type": "code",
      "source": [
        "eval_rnd_color()"
      ],
      "execution_count": 12,
      "outputs": [
        {
          "output_type": "execute_result",
          "data": {
            "text/plain": [
              "(0.0517335275487395, 0)"
            ]
          },
          "metadata": {
            "tags": []
          },
          "execution_count": 12
        }
      ]
    },
    {
      "metadata": {
        "id": "wu_9y1uXqcwH",
        "colab_type": "code",
        "colab": {}
      },
      "cell_type": "code",
      "source": [
        "xs = []\n",
        "ys = []\n",
        "for i in range(1000):\n",
        "  x,y = eval_rnd_color()\n",
        "  xs.append(x)\n",
        "  ys.append(y)\n",
        "\n",
        "xs = np.array(xs)\n",
        "ys = np.array(ys)"
      ],
      "execution_count": 0,
      "outputs": []
    },
    {
      "metadata": {
        "id": "TpNUZXm0qwHJ",
        "colab_type": "code",
        "colab": {
          "base_uri": "https://localhost:8080/",
          "height": 364
        },
        "outputId": "e1cbadbd-8815-4fb2-ef6f-15b96c873227"
      },
      "cell_type": "code",
      "source": [
        "plt.scatter(xs, ys)"
      ],
      "execution_count": 60,
      "outputs": [
        {
          "output_type": "execute_result",
          "data": {
            "text/plain": [
              "<matplotlib.collections.PathCollection at 0x7f0e8de9e978>"
            ]
          },
          "metadata": {
            "tags": []
          },
          "execution_count": 60
        },
        {
          "output_type": "display_data",
          "data": {
            "image/png": "[encoded data removed]",
            "text/plain": [
              "<matplotlib.figure.Figure at 0x7f0e8df5f8d0>"
            ]
          },
          "metadata": {
            "tags": []
          }
        }
      ]
    },
    {
      "metadata": {
        "id": "VLoZMFpKrrsH",
        "colab_type": "code",
        "colab": {
          "base_uri": "https://localhost:8080/",
          "height": 1898
        },
        "outputId": "31a026eb-3a99-4762-8bfc-3b2cad2e5684"
      },
      "cell_type": "code",
      "source": [
        "np.isin(ys,0)"
      ],
      "execution_count": 14,
      "outputs": [
        {
          "output_type": "execute_result",
          "data": {
            "text/plain": [
              "array([False, False,  True, False, False,  True,  True, False,  True,\n",
              "        True, False, False, False,  True, False, False, False,  True,\n",
              "        True,  True,  True,  True,  True, False, False, False,  True,\n",
              "       False,  True, False, False, False, False,  True,  True,  True,\n",
              "       False,  True,  True, False,  True,  True, False, False, False,\n",
              "       False,  True,  True,  True,  True,  True, False,  True,  True,\n",
              "        True,  True, False, False,  True,  True, False,  True, False,\n",
              "        True,  True,  True, False,  True, False, False,  True, False,\n",
              "        True,  True,  True,  True,  True,  True, False, False, False,\n",
              "       False,  True,  True,  True,  True,  True, False,  True, False,\n",
              "       False,  True,  True, False, False, False,  True,  True, False,\n",
              "       False, False,  True,  True, False, False,  True, False, False,\n",
              "        True, False,  True, False,  True,  True, False,  True,  True,\n",
              "        True, False, False, False,  True,  True,  True,  True, False,\n",
              "       False,  True,  True,  True, False,  True,  True, False,  True,\n",
              "        True, False, False,  True, False, False, False,  True,  True,\n",
              "       False, False, False,  True,  True,  True, False,  True,  True,\n",
              "        True,  True, False,  True,  True, False, False,  True,  True,\n",
              "        True, False,  True, False, False,  True,  True, False,  True,\n",
              "       False, False, False,  True, False,  True,  True, False,  True,\n",
              "        True,  True,  True,  True,  True,  True, False,  True,  True,\n",
              "       False, False, False, False,  True,  True,  True,  True, False,\n",
              "        True,  True,  True, False, False,  True, False, False, False,\n",
              "        True,  True,  True, False, False,  True,  True,  True, False,\n",
              "        True, False,  True,  True,  True, False,  True, False, False,\n",
              "       False,  True, False, False,  True, False,  True,  True,  True,\n",
              "       False, False, False, False,  True, False,  True, False,  True,\n",
              "       False, False, False,  True, False,  True,  True, False,  True,\n",
              "       False,  True,  True, False, False,  True,  True, False, False,\n",
              "       False, False,  True,  True, False,  True, False, False,  True,\n",
              "       False,  True, False, False, False,  True,  True, False,  True,\n",
              "       False,  True, False, False, False,  True, False, False,  True,\n",
              "       False,  True,  True, False,  True, False,  True,  True,  True,\n",
              "       False, False, False,  True, False, False,  True, False,  True,\n",
              "       False,  True,  True,  True, False, False, False,  True, False,\n",
              "        True,  True, False, False,  True,  True, False, False,  True,\n",
              "        True, False,  True,  True, False,  True, False,  True, False,\n",
              "        True, False,  True,  True, False, False,  True, False, False,\n",
              "        True,  True,  True,  True,  True, False,  True, False, False,\n",
              "       False,  True, False,  True, False,  True, False,  True, False,\n",
              "        True,  True, False, False, False, False, False, False, False,\n",
              "        True, False,  True, False,  True, False, False,  True, False,\n",
              "        True, False, False, False, False, False,  True,  True, False,\n",
              "        True,  True,  True,  True, False, False, False, False,  True,\n",
              "       False, False,  True,  True, False, False,  True, False, False,\n",
              "        True, False,  True,  True, False, False, False,  True,  True,\n",
              "       False, False, False, False,  True, False, False, False, False,\n",
              "        True, False, False, False, False,  True,  True, False,  True,\n",
              "       False,  True,  True, False,  True,  True,  True, False, False,\n",
              "       False,  True, False,  True,  True, False, False,  True, False,\n",
              "       False, False, False,  True, False,  True, False, False,  True,\n",
              "        True, False, False,  True,  True,  True,  True, False,  True,\n",
              "        True, False,  True, False,  True,  True, False, False,  True,\n",
              "       False,  True, False, False, False, False,  True,  True, False,\n",
              "       False, False,  True,  True, False, False, False, False, False,\n",
              "        True, False, False, False,  True,  True, False,  True, False,\n",
              "       False, False,  True, False,  True, False, False, False, False,\n",
              "        True, False, False, False,  True,  True,  True,  True, False,\n",
              "       False,  True,  True,  True,  True, False,  True,  True,  True,\n",
              "        True, False, False,  True,  True,  True,  True,  True,  True,\n",
              "        True,  True, False, False,  True, False, False,  True, False,\n",
              "        True,  True,  True, False, False, False, False, False, False,\n",
              "       False, False, False,  True,  True, False, False,  True,  True,\n",
              "        True,  True,  True, False, False, False,  True, False, False,\n",
              "       False,  True, False, False,  True, False,  True,  True,  True,\n",
              "        True,  True,  True,  True, False, False,  True, False,  True,\n",
              "       False,  True,  True, False, False,  True,  True,  True, False,\n",
              "        True, False,  True,  True,  True,  True,  True,  True,  True,\n",
              "       False,  True, False,  True,  True,  True, False, False,  True,\n",
              "        True,  True, False, False,  True,  True, False, False,  True,\n",
              "       False, False, False, False, False, False, False,  True, False,\n",
              "        True, False, False,  True, False, False,  True, False,  True,\n",
              "        True,  True, False,  True,  True,  True, False,  True,  True,\n",
              "        True,  True, False,  True, False,  True,  True, False, False,\n",
              "        True, False, False,  True, False,  True,  True, False,  True,\n",
              "       False,  True,  True, False,  True,  True, False, False,  True,\n",
              "        True,  True,  True, False, False,  True,  True,  True, False,\n",
              "        True,  True,  True, False,  True, False,  True, False, False,\n",
              "        True,  True,  True, False,  True,  True, False, False, False,\n",
              "       False,  True,  True,  True,  True, False,  True,  True, False,\n",
              "       False, False, False, False, False,  True,  True, False, False,\n",
              "       False, False, False,  True, False, False, False,  True,  True,\n",
              "       False,  True,  True, False,  True, False, False,  True, False,\n",
              "        True, False, False, False,  True, False,  True, False,  True,\n",
              "        True,  True,  True, False,  True, False, False,  True, False,\n",
              "        True,  True,  True,  True, False,  True, False, False, False,\n",
              "        True, False,  True,  True,  True, False,  True,  True,  True,\n",
              "        True,  True, False,  True, False,  True,  True,  True,  True,\n",
              "        True,  True,  True,  True,  True,  True, False, False, False,\n",
              "       False, False, False,  True,  True,  True, False, False,  True,\n",
              "       False,  True, False, False,  True, False,  True, False,  True,\n",
              "       False, False, False,  True,  True, False, False, False, False,\n",
              "        True, False, False, False, False,  True, False,  True,  True,\n",
              "        True,  True, False, False,  True,  True, False, False,  True,\n",
              "        True,  True, False, False,  True, False, False, False, False,\n",
              "        True,  True, False, False,  True, False, False, False,  True,\n",
              "       False,  True, False, False, False, False, False, False, False,\n",
              "        True,  True,  True,  True,  True,  True, False, False, False,\n",
              "        True,  True,  True,  True, False, False, False, False, False,\n",
              "       False, False,  True, False,  True, False,  True, False,  True,\n",
              "        True, False,  True,  True, False,  True, False, False,  True,\n",
              "        True, False, False,  True, False, False, False, False,  True,\n",
              "       False, False,  True, False, False, False,  True, False, False,\n",
              "       False, False, False, False,  True, False, False, False, False,\n",
              "       False,  True, False,  True, False,  True, False,  True, False,\n",
              "       False, False, False,  True,  True, False,  True,  True, False,\n",
              "       False, False,  True,  True,  True, False, False,  True,  True,\n",
              "       False, False, False, False, False, False, False, False,  True,\n",
              "        True, False, False,  True,  True, False, False,  True,  True,\n",
              "       False,  True,  True, False, False, False,  True,  True,  True,\n",
              "        True, False, False,  True, False,  True, False,  True, False,\n",
              "        True])"
            ]
          },
          "metadata": {
            "tags": []
          },
          "execution_count": 14
        }
      ]
    },
    {
      "metadata": {
        "id": "Kz09k6u5qy7S",
        "colab_type": "code",
        "colab": {
          "base_uri": "https://localhost:8080/",
          "height": 431
        },
        "outputId": "275c6dc8-05c6-4b75-9dbd-4356a08985ae"
      },
      "cell_type": "code",
      "source": [
        "plt.hist(xs[np.isin(ys,0)], color = 'green', alpha=0.5)\n",
        "plt.hist(xs[np.isin(ys,1)], color = 'blue', alpha=0.5)"
      ],
      "execution_count": 16,
      "outputs": [
        {
          "output_type": "execute_result",
          "data": {
            "text/plain": [
              "(array([ 1.,  8., 23., 38., 60., 80., 62., 76., 72., 89.]),\n",
              " array([0.27096594, 0.34353953, 0.41611312, 0.48868671, 0.56126031,\n",
              "        0.6338339 , 0.70640749, 0.77898108, 0.85155467, 0.92412826,\n",
              "        0.99670186]),\n",
              " <a list of 10 Patch objects>)"
            ]
          },
          "metadata": {
            "tags": []
          },
          "execution_count": 16
        },
        {
          "output_type": "display_data",
          "data": {
            "image/png": "[encoded data removed]",
            "text/plain": [
              "<matplotlib.figure.Figure at 0x7fb6d85597f0>"
            ]
          },
          "metadata": {
            "tags": []
          }
        }
      ]
    },
    {
      "metadata": {
        "id": "TqLAE36hrB_j",
        "colab_type": "code",
        "colab": {
          "base_uri": "https://localhost:8080/",
          "height": 347
        },
        "outputId": "f228b9ae-f382-4817-a892-de0be02e9ae6"
      },
      "cell_type": "code",
      "source": [
        "for i in range(100):\n",
        "  plt.bar(i, 100, width=1.0, color=[0.0, 1.0-i/100, i/100])"
      ],
      "execution_count": 17,
      "outputs": [
        {
          "output_type": "display_data",
          "data": {
            "image/png": "[encoded data removed]",
            "text/plain": [
              "<matplotlib.figure.Figure at 0x7fb6d8559d68>"
            ]
          },
          "metadata": {
            "tags": []
          }
        }
      ]
    },
    {
      "metadata": {
        "id": "NQJ80WYataCO",
        "colab_type": "code",
        "colab": {}
      },
      "cell_type": "code",
      "source": [
        ""
      ],
      "execution_count": 0,
      "outputs": []
    }
  ]
}